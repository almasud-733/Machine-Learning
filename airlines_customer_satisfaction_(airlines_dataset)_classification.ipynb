{
  "cells": [
    {
      "cell_type": "markdown",
      "id": "1587e36b",
      "metadata": {
        "id": "1587e36b",
        "papermill": {
          "duration": 0.031652,
          "end_time": "2022-02-06T16:59:02.820240",
          "exception": false,
          "start_time": "2022-02-06T16:59:02.788588",
          "status": "completed"
        },
        "tags": []
      },
      "source": [
        "# Airlines Customer Satisfaction\n",
        "### This notebook trains a CatBoost classifier to predict customer satisfaction based on various airline features."
      ]
    },
    {
      "cell_type": "code",
      "execution_count": 52,
      "id": "8d61fd28",
      "metadata": {
        "execution": {
          "iopub.execute_input": "2022-02-06T16:59:02.943049Z",
          "iopub.status.busy": "2022-02-06T16:59:02.941885Z",
          "iopub.status.idle": "2022-02-06T16:59:04.568155Z",
          "shell.execute_reply": "2022-02-06T16:59:04.566754Z",
          "shell.execute_reply.started": "2022-02-06T16:58:21.313181Z"
        },
        "id": "8d61fd28",
        "papermill": {
          "duration": 1.659405,
          "end_time": "2022-02-06T16:59:04.568367",
          "exception": false,
          "start_time": "2022-02-06T16:59:02.908962",
          "status": "completed"
        },
        "tags": []
      },
      "outputs": [],
      "source": [
        "import pandas as pd\n",
        "import seaborn as sns\n",
        "import matplotlib.pyplot as plt\n",
        "\n",
        "from sklearn.model_selection import train_test_split\n",
        "\n",
        "### classifier\n",
        "from catboost import CatBoostClassifier\n",
        "\n",
        "import warnings\n",
        "warnings.filterwarnings('ignore')"
      ]
    },
    {
      "cell_type": "code",
      "execution_count": 53,
      "id": "f091c330",
      "metadata": {
        "colab": {
          "base_uri": "https://localhost:8080/"
        },
        "id": "f091c330",
        "outputId": "d72a3063-1a08-4c07-dab3-cc3c44634cf1"
      },
      "outputs": [
        {
          "name": "stdout",
          "output_type": "stream",
          "text": [
            "Requirement already satisfied: catboost in c:\\users\\user\\appdata\\local\\programs\\python\\python312\\python.exe\\lib\\site-packages (1.2.8)\n",
            "Requirement already satisfied: graphviz in c:\\users\\user\\appdata\\local\\programs\\python\\python312\\python.exe\\lib\\site-packages (from catboost) (0.21)\n",
            "Requirement already satisfied: matplotlib in c:\\users\\user\\appdata\\local\\programs\\python\\python312\\python.exe\\lib\\site-packages (from catboost) (3.10.1)\n",
            "Requirement already satisfied: numpy<3.0,>=1.16.0 in c:\\users\\user\\appdata\\local\\programs\\python\\python312\\python.exe\\lib\\site-packages (from catboost) (2.2.4)\n",
            "Requirement already satisfied: pandas>=0.24 in c:\\users\\user\\appdata\\local\\programs\\python\\python312\\python.exe\\lib\\site-packages (from catboost) (2.2.3)\n",
            "Requirement already satisfied: scipy in c:\\users\\user\\appdata\\local\\programs\\python\\python312\\python.exe\\lib\\site-packages (from catboost) (1.15.3)\n",
            "Requirement already satisfied: plotly in c:\\users\\user\\appdata\\local\\programs\\python\\python312\\python.exe\\lib\\site-packages (from catboost) (6.3.1)\n",
            "Requirement already satisfied: six in c:\\users\\user\\appdata\\local\\programs\\python\\python312\\python.exe\\lib\\site-packages (from catboost) (1.17.0)\n",
            "Requirement already satisfied: python-dateutil>=2.8.2 in c:\\users\\user\\appdata\\local\\programs\\python\\python312\\python.exe\\lib\\site-packages (from pandas>=0.24->catboost) (2.9.0.post0)\n",
            "Requirement already satisfied: pytz>=2020.1 in c:\\users\\user\\appdata\\local\\programs\\python\\python312\\python.exe\\lib\\site-packages (from pandas>=0.24->catboost) (2025.2)\n",
            "Requirement already satisfied: tzdata>=2022.7 in c:\\users\\user\\appdata\\local\\programs\\python\\python312\\python.exe\\lib\\site-packages (from pandas>=0.24->catboost) (2025.2)\n",
            "Requirement already satisfied: contourpy>=1.0.1 in c:\\users\\user\\appdata\\local\\programs\\python\\python312\\python.exe\\lib\\site-packages (from matplotlib->catboost) (1.3.1)\n",
            "Requirement already satisfied: cycler>=0.10 in c:\\users\\user\\appdata\\local\\programs\\python\\python312\\python.exe\\lib\\site-packages (from matplotlib->catboost) (0.12.1)\n",
            "Requirement already satisfied: fonttools>=4.22.0 in c:\\users\\user\\appdata\\local\\programs\\python\\python312\\python.exe\\lib\\site-packages (from matplotlib->catboost) (4.57.0)\n",
            "Requirement already satisfied: kiwisolver>=1.3.1 in c:\\users\\user\\appdata\\local\\programs\\python\\python312\\python.exe\\lib\\site-packages (from matplotlib->catboost) (1.4.8)\n",
            "Requirement already satisfied: packaging>=20.0 in c:\\users\\user\\appdata\\local\\programs\\python\\python312\\python.exe\\lib\\site-packages (from matplotlib->catboost) (24.2)\n",
            "Requirement already satisfied: pillow>=8 in c:\\users\\user\\appdata\\local\\programs\\python\\python312\\python.exe\\lib\\site-packages (from matplotlib->catboost) (11.1.0)\n",
            "Requirement already satisfied: pyparsing>=2.3.1 in c:\\users\\user\\appdata\\local\\programs\\python\\python312\\python.exe\\lib\\site-packages (from matplotlib->catboost) (3.2.3)\n",
            "Requirement already satisfied: narwhals>=1.15.1 in c:\\users\\user\\appdata\\local\\programs\\python\\python312\\python.exe\\lib\\site-packages (from plotly->catboost) (2.0.1)\n"
          ]
        },
        {
          "name": "stderr",
          "output_type": "stream",
          "text": [
            "\n",
            "[notice] A new release of pip is available: 25.0.1 -> 25.3\n",
            "[notice] To update, run: python.exe -m pip install --upgrade pip\n"
          ]
        }
      ],
      "source": [
        "!pip install catboost"
      ]
    },
    {
      "cell_type": "code",
      "execution_count": 54,
      "id": "c731f30c",
      "metadata": {
        "execution": {
          "iopub.execute_input": "2022-02-06T16:59:04.632386Z",
          "iopub.status.busy": "2022-02-06T16:59:04.631345Z",
          "iopub.status.idle": "2022-02-06T16:59:04.636848Z",
          "shell.execute_reply": "2022-02-06T16:59:04.637307Z",
          "shell.execute_reply.started": "2022-02-06T16:37:55.309775Z"
        },
        "id": "c731f30c",
        "papermill": {
          "duration": 0.040075,
          "end_time": "2022-02-06T16:59:04.637502",
          "exception": false,
          "start_time": "2022-02-06T16:59:04.597427",
          "status": "completed"
        },
        "tags": []
      },
      "outputs": [],
      "source": [
        "def side_by_side(*objs, **kwds):\n",
        "    from pandas.io.formats.printing import adjoin\n",
        "    space = kwds.get('space', 4)\n",
        "    reprs = [repr(obj).split('\\n') for obj in objs]\n",
        "    print (adjoin(space, *reprs))\n",
        "    print()\n",
        "    return"
      ]
    },
    {
      "cell_type": "markdown",
      "id": "e299c082",
      "metadata": {
        "id": "e299c082",
        "papermill": {
          "duration": 0.02882,
          "end_time": "2022-02-06T16:59:04.697571",
          "exception": false,
          "start_time": "2022-02-06T16:59:04.668751",
          "status": "completed"
        },
        "tags": []
      },
      "source": [
        "#### Loading Data"
      ]
    },
    {
      "cell_type": "code",
      "execution_count": 55,
      "id": "a22b93d7",
      "metadata": {
        "execution": {
          "iopub.execute_input": "2022-02-06T16:59:04.761433Z",
          "iopub.status.busy": "2022-02-06T16:59:04.760741Z",
          "iopub.status.idle": "2022-02-06T16:59:05.216022Z",
          "shell.execute_reply": "2022-02-06T16:59:05.215390Z",
          "shell.execute_reply.started": "2022-02-06T16:40:35.851372Z"
        },
        "id": "a22b93d7",
        "papermill": {
          "duration": 0.487523,
          "end_time": "2022-02-06T16:59:05.216212",
          "exception": false,
          "start_time": "2022-02-06T16:59:04.728689",
          "status": "completed"
        },
        "tags": []
      },
      "outputs": [],
      "source": [
        "DF = pd.read_csv(\"airlines_dataset.csv\")"
      ]
    },
    {
      "cell_type": "code",
      "execution_count": 56,
      "id": "JedOBiEyWq4T",
      "metadata": {
        "colab": {
          "base_uri": "https://localhost:8080/",
          "height": 394
        },
        "id": "JedOBiEyWq4T",
        "outputId": "fb0afbfd-bbaa-4f79-e915-7e00a057d72d"
      },
      "outputs": [
        {
          "data": {
            "text/html": [
              "<div>\n",
              "<style scoped>\n",
              "    .dataframe tbody tr th:only-of-type {\n",
              "        vertical-align: middle;\n",
              "    }\n",
              "\n",
              "    .dataframe tbody tr th {\n",
              "        vertical-align: top;\n",
              "    }\n",
              "\n",
              "    .dataframe thead th {\n",
              "        text-align: right;\n",
              "    }\n",
              "</style>\n",
              "<table border=\"1\" class=\"dataframe\">\n",
              "  <thead>\n",
              "    <tr style=\"text-align: right;\">\n",
              "      <th></th>\n",
              "      <th>satisfaction</th>\n",
              "      <th>Gender</th>\n",
              "      <th>Customer Type</th>\n",
              "      <th>Age</th>\n",
              "      <th>Type of Travel</th>\n",
              "      <th>Class</th>\n",
              "      <th>Flight Distance</th>\n",
              "      <th>Seat comfort</th>\n",
              "      <th>Departure/Arrival time convenient</th>\n",
              "      <th>Food and drink</th>\n",
              "      <th>...</th>\n",
              "      <th>Online support</th>\n",
              "      <th>Ease of Online booking</th>\n",
              "      <th>On-board service</th>\n",
              "      <th>Leg room service</th>\n",
              "      <th>Baggage handling</th>\n",
              "      <th>Checkin service</th>\n",
              "      <th>Cleanliness</th>\n",
              "      <th>Online boarding</th>\n",
              "      <th>Departure Delay in Minutes</th>\n",
              "      <th>Arrival Delay in Minutes</th>\n",
              "    </tr>\n",
              "  </thead>\n",
              "  <tbody>\n",
              "    <tr>\n",
              "      <th>0</th>\n",
              "      <td>satisfied</td>\n",
              "      <td>Female</td>\n",
              "      <td>Loyal Customer</td>\n",
              "      <td>65</td>\n",
              "      <td>Personal Travel</td>\n",
              "      <td>Eco</td>\n",
              "      <td>265</td>\n",
              "      <td>0</td>\n",
              "      <td>0</td>\n",
              "      <td>0</td>\n",
              "      <td>...</td>\n",
              "      <td>2</td>\n",
              "      <td>3</td>\n",
              "      <td>3</td>\n",
              "      <td>0</td>\n",
              "      <td>3</td>\n",
              "      <td>5</td>\n",
              "      <td>3</td>\n",
              "      <td>2</td>\n",
              "      <td>0</td>\n",
              "      <td>0.0</td>\n",
              "    </tr>\n",
              "    <tr>\n",
              "      <th>1</th>\n",
              "      <td>satisfied</td>\n",
              "      <td>Male</td>\n",
              "      <td>Loyal Customer</td>\n",
              "      <td>47</td>\n",
              "      <td>Personal Travel</td>\n",
              "      <td>Business</td>\n",
              "      <td>2464</td>\n",
              "      <td>0</td>\n",
              "      <td>0</td>\n",
              "      <td>0</td>\n",
              "      <td>...</td>\n",
              "      <td>2</td>\n",
              "      <td>3</td>\n",
              "      <td>4</td>\n",
              "      <td>4</td>\n",
              "      <td>4</td>\n",
              "      <td>2</td>\n",
              "      <td>3</td>\n",
              "      <td>2</td>\n",
              "      <td>310</td>\n",
              "      <td>305.0</td>\n",
              "    </tr>\n",
              "    <tr>\n",
              "      <th>2</th>\n",
              "      <td>satisfied</td>\n",
              "      <td>Female</td>\n",
              "      <td>Loyal Customer</td>\n",
              "      <td>15</td>\n",
              "      <td>Personal Travel</td>\n",
              "      <td>Eco</td>\n",
              "      <td>2138</td>\n",
              "      <td>0</td>\n",
              "      <td>0</td>\n",
              "      <td>0</td>\n",
              "      <td>...</td>\n",
              "      <td>2</td>\n",
              "      <td>2</td>\n",
              "      <td>3</td>\n",
              "      <td>3</td>\n",
              "      <td>4</td>\n",
              "      <td>4</td>\n",
              "      <td>4</td>\n",
              "      <td>2</td>\n",
              "      <td>0</td>\n",
              "      <td>0.0</td>\n",
              "    </tr>\n",
              "    <tr>\n",
              "      <th>3</th>\n",
              "      <td>satisfied</td>\n",
              "      <td>Female</td>\n",
              "      <td>Loyal Customer</td>\n",
              "      <td>60</td>\n",
              "      <td>Personal Travel</td>\n",
              "      <td>Eco</td>\n",
              "      <td>623</td>\n",
              "      <td>0</td>\n",
              "      <td>0</td>\n",
              "      <td>0</td>\n",
              "      <td>...</td>\n",
              "      <td>3</td>\n",
              "      <td>1</td>\n",
              "      <td>1</td>\n",
              "      <td>0</td>\n",
              "      <td>1</td>\n",
              "      <td>4</td>\n",
              "      <td>1</td>\n",
              "      <td>3</td>\n",
              "      <td>0</td>\n",
              "      <td>0.0</td>\n",
              "    </tr>\n",
              "    <tr>\n",
              "      <th>4</th>\n",
              "      <td>satisfied</td>\n",
              "      <td>Female</td>\n",
              "      <td>Loyal Customer</td>\n",
              "      <td>70</td>\n",
              "      <td>Personal Travel</td>\n",
              "      <td>Eco</td>\n",
              "      <td>354</td>\n",
              "      <td>0</td>\n",
              "      <td>0</td>\n",
              "      <td>0</td>\n",
              "      <td>...</td>\n",
              "      <td>4</td>\n",
              "      <td>2</td>\n",
              "      <td>2</td>\n",
              "      <td>0</td>\n",
              "      <td>2</td>\n",
              "      <td>4</td>\n",
              "      <td>2</td>\n",
              "      <td>5</td>\n",
              "      <td>0</td>\n",
              "      <td>0.0</td>\n",
              "    </tr>\n",
              "  </tbody>\n",
              "</table>\n",
              "<p>5 rows × 23 columns</p>\n",
              "</div>"
            ],
            "text/plain": [
              "  satisfaction  Gender   Customer Type  Age   Type of Travel     Class  \\\n",
              "0    satisfied  Female  Loyal Customer   65  Personal Travel       Eco   \n",
              "1    satisfied    Male  Loyal Customer   47  Personal Travel  Business   \n",
              "2    satisfied  Female  Loyal Customer   15  Personal Travel       Eco   \n",
              "3    satisfied  Female  Loyal Customer   60  Personal Travel       Eco   \n",
              "4    satisfied  Female  Loyal Customer   70  Personal Travel       Eco   \n",
              "\n",
              "   Flight Distance  Seat comfort  Departure/Arrival time convenient  \\\n",
              "0              265             0                                  0   \n",
              "1             2464             0                                  0   \n",
              "2             2138             0                                  0   \n",
              "3              623             0                                  0   \n",
              "4              354             0                                  0   \n",
              "\n",
              "   Food and drink  ...  Online support  Ease of Online booking  \\\n",
              "0               0  ...               2                       3   \n",
              "1               0  ...               2                       3   \n",
              "2               0  ...               2                       2   \n",
              "3               0  ...               3                       1   \n",
              "4               0  ...               4                       2   \n",
              "\n",
              "   On-board service  Leg room service  Baggage handling  Checkin service  \\\n",
              "0                 3                 0                 3                5   \n",
              "1                 4                 4                 4                2   \n",
              "2                 3                 3                 4                4   \n",
              "3                 1                 0                 1                4   \n",
              "4                 2                 0                 2                4   \n",
              "\n",
              "   Cleanliness  Online boarding  Departure Delay in Minutes  \\\n",
              "0            3                2                           0   \n",
              "1            3                2                         310   \n",
              "2            4                2                           0   \n",
              "3            1                3                           0   \n",
              "4            2                5                           0   \n",
              "\n",
              "   Arrival Delay in Minutes  \n",
              "0                       0.0  \n",
              "1                     305.0  \n",
              "2                       0.0  \n",
              "3                       0.0  \n",
              "4                       0.0  \n",
              "\n",
              "[5 rows x 23 columns]"
            ]
          },
          "execution_count": 56,
          "metadata": {},
          "output_type": "execute_result"
        }
      ],
      "source": [
        "DF.head()"
      ]
    },
    {
      "cell_type": "code",
      "execution_count": 57,
      "id": "aacf2f72",
      "metadata": {
        "colab": {
          "base_uri": "https://localhost:8080/"
        },
        "execution": {
          "iopub.execute_input": "2022-02-06T16:59:05.284168Z",
          "iopub.status.busy": "2022-02-06T16:59:05.283315Z",
          "iopub.status.idle": "2022-02-06T16:59:05.286951Z",
          "shell.execute_reply": "2022-02-06T16:59:05.287463Z",
          "shell.execute_reply.started": "2022-02-06T16:40:39.100859Z"
        },
        "id": "aacf2f72",
        "outputId": "75a60ac4-38a5-4c17-a4df-4cb45c4f8b73",
        "papermill": {
          "duration": 0.04169,
          "end_time": "2022-02-06T16:59:05.287670",
          "exception": false,
          "start_time": "2022-02-06T16:59:05.245980",
          "status": "completed"
        },
        "tags": []
      },
      "outputs": [
        {
          "data": {
            "text/plain": [
              "(129880, 23)"
            ]
          },
          "execution_count": 57,
          "metadata": {},
          "output_type": "execute_result"
        }
      ],
      "source": [
        "DF.shape"
      ]
    },
    {
      "cell_type": "code",
      "execution_count": 58,
      "id": "ac61ad05",
      "metadata": {
        "colab": {
          "base_uri": "https://localhost:8080/"
        },
        "execution": {
          "iopub.execute_input": "2022-02-06T16:59:05.353598Z",
          "iopub.status.busy": "2022-02-06T16:59:05.352748Z",
          "iopub.status.idle": "2022-02-06T16:59:05.513600Z",
          "shell.execute_reply": "2022-02-06T16:59:05.514135Z",
          "shell.execute_reply.started": "2022-02-06T16:45:18.460807Z"
        },
        "id": "ac61ad05",
        "outputId": "90a89025-07f8-47ee-cb18-28ac73e429f1",
        "papermill": {
          "duration": 0.19608,
          "end_time": "2022-02-06T16:59:05.514336",
          "exception": false,
          "start_time": "2022-02-06T16:59:05.318256",
          "status": "completed"
        },
        "tags": []
      },
      "outputs": [
        {
          "name": "stdout",
          "output_type": "stream",
          "text": [
            "satisfaction                           0    satisfaction                         129880\n",
            "Gender                                 0    Gender                               129880\n",
            "Customer Type                          0    Customer Type                        129880\n",
            "Age                                    0    Age                                  129880\n",
            "Type of Travel                         0    Type of Travel                       129880\n",
            "Class                                  0    Class                                129880\n",
            "Flight Distance                        0    Flight Distance                      129880\n",
            "Seat comfort                           0    Seat comfort                         129880\n",
            "Departure/Arrival time convenient      0    Departure/Arrival time convenient    129880\n",
            "Food and drink                         0    Food and drink                       129880\n",
            "Gate location                          0    Gate location                        129880\n",
            "Inflight wifi service                  0    Inflight wifi service                129880\n",
            "Inflight entertainment                 0    Inflight entertainment               129880\n",
            "Online support                         0    Online support                       129880\n",
            "Ease of Online booking                 0    Ease of Online booking               129880\n",
            "On-board service                       0    On-board service                     129880\n",
            "Leg room service                       0    Leg room service                     129880\n",
            "Baggage handling                       0    Baggage handling                     129880\n",
            "Checkin service                        0    Checkin service                      129880\n",
            "Cleanliness                            0    Cleanliness                          129880\n",
            "Online boarding                        0    Online boarding                      129880\n",
            "Departure Delay in Minutes             0    Departure Delay in Minutes           129880\n",
            "Arrival Delay in Minutes             393    Arrival Delay in Minutes             129487\n",
            "dtype: int64                                dtype: int64                               \n",
            "\n"
          ]
        }
      ],
      "source": [
        "side_by_side(DF.isnull().sum(), DF.count())"
      ]
    },
    {
      "cell_type": "code",
      "execution_count": 59,
      "id": "3f77a5a3",
      "metadata": {
        "colab": {
          "base_uri": "https://localhost:8080/",
          "height": 209
        },
        "execution": {
          "iopub.execute_input": "2022-02-06T16:59:05.577929Z",
          "iopub.status.busy": "2022-02-06T16:59:05.577235Z",
          "iopub.status.idle": "2022-02-06T16:59:05.606391Z",
          "shell.execute_reply": "2022-02-06T16:59:05.606937Z",
          "shell.execute_reply.started": "2022-02-06T16:45:21.269163Z"
        },
        "id": "3f77a5a3",
        "outputId": "45bc80b7-5d49-4855-98c5-2a727a1d9db5",
        "papermill": {
          "duration": 0.062872,
          "end_time": "2022-02-06T16:59:05.607110",
          "exception": false,
          "start_time": "2022-02-06T16:59:05.544238",
          "status": "completed"
        },
        "tags": []
      },
      "outputs": [
        {
          "data": {
            "text/plain": [
              "Class\n",
              "Business    62160\n",
              "Eco         58309\n",
              "Eco Plus     9411\n",
              "dtype: int64"
            ]
          },
          "execution_count": 59,
          "metadata": {},
          "output_type": "execute_result"
        }
      ],
      "source": [
        "DF[['Class']].groupby(['Class']).size()"
      ]
    },
    {
      "cell_type": "markdown",
      "id": "634398c5",
      "metadata": {
        "id": "634398c5",
        "papermill": {
          "duration": 0.030322,
          "end_time": "2022-02-06T16:59:05.667516",
          "exception": false,
          "start_time": "2022-02-06T16:59:05.637194",
          "status": "completed"
        },
        "tags": []
      },
      "source": [
        "#### Label Encoding"
      ]
    },
    {
      "cell_type": "code",
      "execution_count": 60,
      "id": "b8707bcf",
      "metadata": {
        "execution": {
          "iopub.execute_input": "2022-02-06T16:59:05.739871Z",
          "iopub.status.busy": "2022-02-06T16:59:05.739117Z",
          "iopub.status.idle": "2022-02-06T16:59:05.838699Z",
          "shell.execute_reply": "2022-02-06T16:59:05.838147Z",
          "shell.execute_reply.started": "2022-02-06T16:45:24.959811Z"
        },
        "id": "b8707bcf",
        "papermill": {
          "duration": 0.13912,
          "end_time": "2022-02-06T16:59:05.838868",
          "exception": false,
          "start_time": "2022-02-06T16:59:05.699748",
          "status": "completed"
        },
        "tags": []
      },
      "outputs": [],
      "source": [
        "## satisfaction column - label encoding\n",
        "satisfaction_mapping = {\"satisfied\": 1, \"dissatisfied\": 0}\n",
        "DF['satisfaction'] = DF['satisfaction'].map(satisfaction_mapping)\n",
        "\n",
        "## Gender column - label encoding\n",
        "gender_mapping = {\"Female\": 1, \"Male\": 0}\n",
        "DF['Gender'] = DF['Gender'].map(gender_mapping)\n",
        "\n",
        "## Customer type column - label encoding\n",
        "customer_type_mapping = {\"Loyal Customer\": 1, \"disloyal Customer\": 0}\n",
        "DF['Customer Type'] = DF['Customer Type'].map(customer_type_mapping)\n",
        "\n",
        "## Type of travel column - label encoding\n",
        "travel_type_mapping = {\"Business travel\": 2, \"Personal Travel\": 1}\n",
        "DF['Type of Travel'] = DF['Type of Travel'].map(travel_type_mapping)\n",
        "\n",
        "## Class column - label encoding\n",
        "class_mapping = {\"Business\": 3, \"Eco Plus\": 2, \"Eco\": 1}\n",
        "DF['Class'] = DF['Class'].map(class_mapping)"
      ]
    },
    {
      "cell_type": "markdown",
      "id": "1c124e4f",
      "metadata": {
        "id": "1c124e4f",
        "papermill": {
          "duration": 0.029733,
          "end_time": "2022-02-06T16:59:05.898705",
          "exception": false,
          "start_time": "2022-02-06T16:59:05.868972",
          "status": "completed"
        },
        "tags": []
      },
      "source": [
        "#### Catigorical Features"
      ]
    },
    {
      "cell_type": "code",
      "execution_count": 61,
      "id": "b26f8147",
      "metadata": {
        "colab": {
          "base_uri": "https://localhost:8080/",
          "height": 805
        },
        "execution": {
          "iopub.execute_input": "2022-02-06T16:59:05.965350Z",
          "iopub.status.busy": "2022-02-06T16:59:05.964404Z",
          "iopub.status.idle": "2022-02-06T16:59:05.994357Z",
          "shell.execute_reply": "2022-02-06T16:59:05.994903Z",
          "shell.execute_reply.started": "2022-02-06T16:45:26.83676Z"
        },
        "id": "b26f8147",
        "outputId": "cec10c99-9ed2-4161-cda7-4d0efc92f918",
        "papermill": {
          "duration": 0.066018,
          "end_time": "2022-02-06T16:59:05.995087",
          "exception": false,
          "start_time": "2022-02-06T16:59:05.929069",
          "status": "completed"
        },
        "tags": []
      },
      "outputs": [
        {
          "data": {
            "text/plain": [
              "satisfaction                            2\n",
              "Gender                                  2\n",
              "Customer Type                           2\n",
              "Age                                    75\n",
              "Type of Travel                          2\n",
              "Class                                   3\n",
              "Flight Distance                      5398\n",
              "Seat comfort                            6\n",
              "Departure/Arrival time convenient       6\n",
              "Food and drink                          6\n",
              "Gate location                           6\n",
              "Inflight wifi service                   6\n",
              "Inflight entertainment                  6\n",
              "Online support                          6\n",
              "Ease of Online booking                  6\n",
              "On-board service                        6\n",
              "Leg room service                        6\n",
              "Baggage handling                        5\n",
              "Checkin service                         6\n",
              "Cleanliness                             6\n",
              "Online boarding                         6\n",
              "Departure Delay in Minutes            466\n",
              "Arrival Delay in Minutes              472\n",
              "dtype: int64"
            ]
          },
          "execution_count": 61,
          "metadata": {},
          "output_type": "execute_result"
        }
      ],
      "source": [
        "DF.nunique() ## how many unique values does each feature have?"
      ]
    },
    {
      "cell_type": "code",
      "execution_count": 62,
      "id": "e94d8233",
      "metadata": {
        "colab": {
          "base_uri": "https://localhost:8080/"
        },
        "execution": {
          "iopub.execute_input": "2022-02-06T16:59:06.064303Z",
          "iopub.status.busy": "2022-02-06T16:59:06.060732Z",
          "iopub.status.idle": "2022-02-06T16:59:06.067216Z",
          "shell.execute_reply": "2022-02-06T16:59:06.067795Z",
          "shell.execute_reply.started": "2022-02-06T16:45:28.742102Z"
        },
        "id": "e94d8233",
        "outputId": "a9dd667d-7d8d-4c39-ac58-dbd8f6c7d73a",
        "papermill": {
          "duration": 0.041192,
          "end_time": "2022-02-06T16:59:06.068021",
          "exception": false,
          "start_time": "2022-02-06T16:59:06.026829",
          "status": "completed"
        },
        "tags": []
      },
      "outputs": [
        {
          "data": {
            "text/plain": [
              "Index(['satisfaction', 'Gender', 'Customer Type', 'Age', 'Type of Travel',\n",
              "       'Class', 'Flight Distance', 'Seat comfort',\n",
              "       'Departure/Arrival time convenient', 'Food and drink', 'Gate location',\n",
              "       'Inflight wifi service', 'Inflight entertainment', 'Online support',\n",
              "       'Ease of Online booking', 'On-board service', 'Leg room service',\n",
              "       'Baggage handling', 'Checkin service', 'Cleanliness', 'Online boarding',\n",
              "       'Departure Delay in Minutes', 'Arrival Delay in Minutes'],\n",
              "      dtype='object')"
            ]
          },
          "execution_count": 62,
          "metadata": {},
          "output_type": "execute_result"
        }
      ],
      "source": [
        "DF.columns"
      ]
    },
    {
      "cell_type": "code",
      "execution_count": 63,
      "id": "92477085",
      "metadata": {
        "execution": {
          "iopub.execute_input": "2022-02-06T16:59:06.134178Z",
          "iopub.status.busy": "2022-02-06T16:59:06.133514Z",
          "iopub.status.idle": "2022-02-06T16:59:06.137873Z",
          "shell.execute_reply": "2022-02-06T16:59:06.138388Z",
          "shell.execute_reply.started": "2022-02-06T16:45:30.030852Z"
        },
        "id": "92477085",
        "papermill": {
          "duration": 0.039242,
          "end_time": "2022-02-06T16:59:06.138562",
          "exception": false,
          "start_time": "2022-02-06T16:59:06.099320",
          "status": "completed"
        },
        "tags": []
      },
      "outputs": [],
      "source": [
        "cat_features = ['Gender', 'Customer Type', 'Type of Travel', 'Class', 'Seat comfort',\n",
        "               'Departure/Arrival time convenient', 'Food and drink', 'Gate location',\n",
        "               'Inflight wifi service', 'Inflight entertainment', 'Online support',\n",
        "               'Ease of Online booking', 'On-board service', 'Leg room service',\n",
        "               'Baggage handling', 'Checkin service', 'Cleanliness', 'Online boarding']\n",
        "\n",
        "target = 'satisfaction'"
      ]
    },
    {
      "cell_type": "markdown",
      "id": "410622c7",
      "metadata": {
        "id": "410622c7",
        "papermill": {
          "duration": 0.030708,
          "end_time": "2022-02-06T16:59:06.200206",
          "exception": false,
          "start_time": "2022-02-06T16:59:06.169498",
          "status": "completed"
        },
        "tags": []
      },
      "source": [
        "#### Check Class Balance"
      ]
    },
    {
      "cell_type": "code",
      "execution_count": 64,
      "id": "2bdb6ac6",
      "metadata": {
        "colab": {
          "base_uri": "https://localhost:8080/",
          "height": 554
        },
        "execution": {
          "iopub.execute_input": "2022-02-06T16:59:06.266442Z",
          "iopub.status.busy": "2022-02-06T16:59:06.265742Z",
          "iopub.status.idle": "2022-02-06T16:59:06.476239Z",
          "shell.execute_reply": "2022-02-06T16:59:06.476721Z",
          "shell.execute_reply.started": "2022-02-06T16:45:31.828922Z"
        },
        "id": "2bdb6ac6",
        "outputId": "a20a48e9-01e2-4b3b-daae-c6634a70cbee",
        "papermill": {
          "duration": 0.245585,
          "end_time": "2022-02-06T16:59:06.476932",
          "exception": false,
          "start_time": "2022-02-06T16:59:06.231347",
          "status": "completed"
        },
        "tags": []
      },
      "outputs": [
        {
          "name": "stdout",
          "output_type": "stream",
          "text": [
            "Counts of each class\n",
            "satisfaction\n",
            "1    71087\n",
            "0    58793\n",
            "Name: count, dtype: int64\n"
          ]
        },
        {
          "data": {
            "image/png": "[encoded data removed]",
            "text/plain": [
              "<Figure size 640x480 with 1 Axes>"
            ]
          },
          "metadata": {},
          "output_type": "display_data"
        }
      ],
      "source": [
        "print(\"Counts of each class\")\n",
        "print(DF[target].value_counts())\n",
        "DF[target].value_counts().plot(kind='bar')\n",
        "plt.ylabel('Count')\n",
        "plt.title('Class Counts (Checking for Imbalance)')\n",
        "plt.show()"
      ]
    },
    {
      "cell_type": "markdown",
      "id": "7dd5b54b",
      "metadata": {
        "id": "7dd5b54b",
        "papermill": {
          "duration": 0.032154,
          "end_time": "2022-02-06T16:59:06.542177",
          "exception": false,
          "start_time": "2022-02-06T16:59:06.510023",
          "status": "completed"
        },
        "tags": []
      },
      "source": [
        "Classes are almost balanced"
      ]
    },
    {
      "cell_type": "markdown",
      "id": "28c3f771",
      "metadata": {
        "id": "28c3f771",
        "papermill": {
          "duration": 0.032053,
          "end_time": "2022-02-06T16:59:06.606709",
          "exception": false,
          "start_time": "2022-02-06T16:59:06.574656",
          "status": "completed"
        },
        "tags": []
      },
      "source": [
        "#### Missing Value Handling"
      ]
    },
    {
      "cell_type": "markdown",
      "id": "c7448256",
      "metadata": {
        "id": "c7448256",
        "papermill": {
          "duration": 0.032183,
          "end_time": "2022-02-06T16:59:06.671357",
          "exception": false,
          "start_time": "2022-02-06T16:59:06.639174",
          "status": "completed"
        },
        "tags": []
      },
      "source": [
        "> Most of the models can handle missing values: catboost, xgboost, etc, Therefore I did not handle missing features"
      ]
    },
    {
      "cell_type": "code",
      "execution_count": 65,
      "id": "9d5ff6ac",
      "metadata": {
        "colab": {
          "base_uri": "https://localhost:8080/"
        },
        "execution": {
          "iopub.execute_input": "2022-02-06T16:59:06.742050Z",
          "iopub.status.busy": "2022-02-06T16:59:06.741049Z",
          "iopub.status.idle": "2022-02-06T16:59:06.748153Z",
          "shell.execute_reply": "2022-02-06T16:59:06.748695Z",
          "shell.execute_reply.started": "2022-02-06T16:45:34.163541Z"
        },
        "id": "9d5ff6ac",
        "outputId": "373db833-992d-42d3-b303-67f53d18f3ec",
        "papermill": {
          "duration": 0.043491,
          "end_time": "2022-02-06T16:59:06.748891",
          "exception": false,
          "start_time": "2022-02-06T16:59:06.705400",
          "status": "completed"
        },
        "tags": []
      },
      "outputs": [
        {
          "name": "stdout",
          "output_type": "stream",
          "text": [
            "Percentage of missing: 0.303 %\n"
          ]
        }
      ],
      "source": [
        "print(\"Percentage of missing: {} %\".format(round(DF['Arrival Delay in Minutes'].isnull().sum()/\n",
        "                                                 DF.shape[0]*100, 3)))"
      ]
    },
    {
      "cell_type": "code",
      "execution_count": 66,
      "id": "4677774e",
      "metadata": {
        "colab": {
          "base_uri": "https://localhost:8080/",
          "height": 542
        },
        "execution": {
          "iopub.execute_input": "2022-02-06T16:59:06.819318Z",
          "iopub.status.busy": "2022-02-06T16:59:06.818279Z",
          "iopub.status.idle": "2022-02-06T16:59:07.629137Z",
          "shell.execute_reply": "2022-02-06T16:59:07.628379Z",
          "shell.execute_reply.started": "2022-02-06T16:45:36.228237Z"
        },
        "id": "4677774e",
        "outputId": "1fb4a09d-7c98-4a66-8c3e-710fce511fbc",
        "papermill": {
          "duration": 0.846751,
          "end_time": "2022-02-06T16:59:07.629299",
          "exception": false,
          "start_time": "2022-02-06T16:59:06.782548",
          "status": "completed"
        },
        "tags": []
      },
      "outputs": [
        {
          "data": {
            "image/png": "[encoded data removed]",
            "text/plain": [
              "<Figure size 800x600 with 1 Axes>"
            ]
          },
          "metadata": {},
          "output_type": "display_data"
        }
      ],
      "source": [
        "### We have only missing values on \"Arrival Delay in Minutes\" feature\n",
        "\n",
        "fig = plt.figure(figsize=(8,6))\n",
        "sns.distplot(DF['Arrival Delay in Minutes'], kde_kws={'linewidth': 3, 'color': 'blue'}, hist_kws={'color': 'blue'});\n",
        "plt.show()"
      ]
    },
    {
      "cell_type": "markdown",
      "id": "b8ed8b01",
      "metadata": {
        "id": "b8ed8b01",
        "papermill": {
          "duration": 0.033347,
          "end_time": "2022-02-06T16:59:07.696881",
          "exception": false,
          "start_time": "2022-02-06T16:59:07.663534",
          "status": "completed"
        },
        "tags": []
      },
      "source": [
        "This feature has outliers as well"
      ]
    },
    {
      "cell_type": "markdown",
      "id": "aa2d8b12",
      "metadata": {
        "id": "aa2d8b12",
        "papermill": {
          "duration": 0.033003,
          "end_time": "2022-02-06T16:59:07.763314",
          "exception": false,
          "start_time": "2022-02-06T16:59:07.730311",
          "status": "completed"
        },
        "tags": []
      },
      "source": [
        "#### Splitting dataset into train, validation and test"
      ]
    },
    {
      "cell_type": "code",
      "execution_count": 67,
      "id": "bd0e54c7",
      "metadata": {
        "execution": {
          "iopub.execute_input": "2022-02-06T16:59:07.834986Z",
          "iopub.status.busy": "2022-02-06T16:59:07.833679Z",
          "iopub.status.idle": "2022-02-06T16:59:07.876353Z",
          "shell.execute_reply": "2022-02-06T16:59:07.877781Z",
          "shell.execute_reply.started": "2022-02-06T16:45:39.55746Z"
        },
        "id": "bd0e54c7",
        "papermill": {
          "duration": 0.081339,
          "end_time": "2022-02-06T16:59:07.878058",
          "exception": false,
          "start_time": "2022-02-06T16:59:07.796719",
          "status": "completed"
        },
        "tags": []
      },
      "outputs": [],
      "source": [
        "X = DF.drop([target], axis=1)\n",
        "y = DF[target]"
      ]
    },
    {
      "cell_type": "code",
      "execution_count": 68,
      "id": "37d031ba",
      "metadata": {
        "execution": {
          "iopub.execute_input": "2022-02-06T16:59:07.951505Z",
          "iopub.status.busy": "2022-02-06T16:59:07.950487Z",
          "iopub.status.idle": "2022-02-06T16:59:08.052920Z",
          "shell.execute_reply": "2022-02-06T16:59:08.053458Z",
          "shell.execute_reply.started": "2022-02-06T16:45:41.383386Z"
        },
        "id": "37d031ba",
        "papermill": {
          "duration": 0.140832,
          "end_time": "2022-02-06T16:59:08.053666",
          "exception": false,
          "start_time": "2022-02-06T16:59:07.912834",
          "status": "completed"
        },
        "tags": []
      },
      "outputs": [],
      "source": [
        "SEED = 42\n",
        "TEST_SIZE = 0.2\n",
        "\n",
        "X_train, X_test, y_train, y_test = train_test_split(X, y, test_size=TEST_SIZE, stratify=y, random_state=SEED)"
      ]
    },
    {
      "cell_type": "markdown",
      "id": "f47826b7",
      "metadata": {
        "id": "f47826b7",
        "papermill": {
          "duration": 0.033779,
          "end_time": "2022-02-06T16:59:08.121781",
          "exception": false,
          "start_time": "2022-02-06T16:59:08.088002",
          "status": "completed"
        },
        "tags": []
      },
      "source": [
        "#### Validation"
      ]
    },
    {
      "cell_type": "code",
      "execution_count": 69,
      "id": "979dc664",
      "metadata": {
        "execution": {
          "iopub.execute_input": "2022-02-06T16:59:08.194720Z",
          "iopub.status.busy": "2022-02-06T16:59:08.193675Z",
          "iopub.status.idle": "2022-02-06T16:59:08.279421Z",
          "shell.execute_reply": "2022-02-06T16:59:08.279981Z",
          "shell.execute_reply.started": "2022-02-06T16:45:44.386133Z"
        },
        "id": "979dc664",
        "papermill": {
          "duration": 0.124103,
          "end_time": "2022-02-06T16:59:08.280212",
          "exception": false,
          "start_time": "2022-02-06T16:59:08.156109",
          "status": "completed"
        },
        "tags": []
      },
      "outputs": [],
      "source": [
        "SEED = 42\n",
        "VAL_SIZE = 0.2 # % of train data\n",
        "\n",
        "X_train, X_val, y_train, y_val =  train_test_split(X_train, y_train, test_size=VAL_SIZE, stratify=y_train, random_state=SEED)"
      ]
    },
    {
      "cell_type": "markdown",
      "id": "e2fd0292",
      "metadata": {
        "id": "e2fd0292",
        "papermill": {
          "duration": 0.035077,
          "end_time": "2022-02-06T16:59:08.349997",
          "exception": false,
          "start_time": "2022-02-06T16:59:08.314920",
          "status": "completed"
        },
        "tags": []
      },
      "source": [
        "#### Baseline model: catboost"
      ]
    },
    {
      "cell_type": "code",
      "execution_count": 70,
      "id": "02f02ad1",
      "metadata": {
        "colab": {
          "base_uri": "https://localhost:8080/",
          "height": 34,
          "referenced_widgets": [
            "00526761426441249d0a5d0738e5aac6"
          ]
        },
        "execution": {
          "iopub.execute_input": "2022-02-06T16:59:08.425204Z",
          "iopub.status.busy": "2022-02-06T16:59:08.424171Z",
          "iopub.status.idle": "2022-02-06T16:59:12.369355Z",
          "shell.execute_reply": "2022-02-06T16:59:12.368737Z",
          "shell.execute_reply.started": "2022-02-06T16:45:48.484809Z"
        },
        "id": "02f02ad1",
        "outputId": "734fb832-fea4-4754-e88e-1c2d29381c40",
        "papermill": {
          "duration": 3.984322,
          "end_time": "2022-02-06T16:59:12.369534",
          "exception": false,
          "start_time": "2022-02-06T16:59:08.385212",
          "status": "completed"
        },
        "tags": []
      },
      "outputs": [
        {
          "name": "stdout",
          "output_type": "stream",
          "text": [
            "Training accuracy: 0.934\n",
            "Validation accuracy: 0.933\n",
            "Validation accuracy: 0.933\n"
          ]
        }
      ],
      "source": [
        "# You can optimize the iterations, learning rate and also evaluation metrics\n",
        "model = CatBoostClassifier(\n",
        "    iterations=50,\n",
        "    random_seed=63,\n",
        "    learning_rate=0.1,\n",
        "    custom_loss=['Accuracy'],\n",
        "    eval_metric='Accuracy'\n",
        ")\n",
        "\n",
        "# Fit the model without plot=True to avoid widget issues\n",
        "model.fit(\n",
        "    X_train, y_train,\n",
        "    cat_features=cat_features,\n",
        "    eval_set=(X_val, y_val),\n",
        "    logging_level='Silent'\n",
        ")\n",
        "\n",
        "# Print the training and validation accuracy after fitting\n",
        "print(\"Training accuracy:\", round(model.score(X_train, y_train), 3))\n",
        "print(\"Validation accuracy:\", round(model.score(X_val, y_val), 3))"
      ]
    },
    {
      "cell_type": "markdown",
      "id": "50431f69",
      "metadata": {
        "id": "50431f69",
        "papermill": {
          "duration": 0.036548,
          "end_time": "2022-02-06T16:59:12.444045",
          "exception": false,
          "start_time": "2022-02-06T16:59:12.407497",
          "status": "completed"
        },
        "tags": []
      },
      "source": [
        "#### Evaluation on test dataset"
      ]
    },
    {
      "cell_type": "code",
      "execution_count": 71,
      "id": "ec3d06f2",
      "metadata": {
        "colab": {
          "base_uri": "https://localhost:8080/"
        },
        "execution": {
          "iopub.execute_input": "2022-02-06T16:59:12.578331Z",
          "iopub.status.busy": "2022-02-06T16:59:12.571167Z",
          "iopub.status.idle": "2022-02-06T16:59:12.670670Z",
          "shell.execute_reply": "2022-02-06T16:59:12.671271Z",
          "shell.execute_reply.started": "2022-02-06T16:46:05.333428Z"
        },
        "id": "ec3d06f2",
        "outputId": "fc3af19f-8499-4fd1-94a3-822b0d5581b5",
        "papermill": {
          "duration": 0.19222,
          "end_time": "2022-02-06T16:59:12.671522",
          "exception": false,
          "start_time": "2022-02-06T16:59:12.479302",
          "status": "completed"
        },
        "tags": []
      },
      "outputs": [
        {
          "name": "stdout",
          "output_type": "stream",
          "text": [
            "Test score (accuracy):  0.933\n"
          ]
        }
      ],
      "source": [
        "score = model.score(X_test, y_test)\n",
        "\n",
        "print(\"Test score (accuracy): \", round(score, 3))"
      ]
    },
    {
      "cell_type": "markdown",
      "id": "504ee4a7",
      "metadata": {
        "id": "504ee4a7",
        "papermill": {
          "duration": 0.037427,
          "end_time": "2022-02-06T16:59:12.745404",
          "exception": false,
          "start_time": "2022-02-06T16:59:12.707977",
          "status": "completed"
        },
        "tags": []
      },
      "source": [
        "With basic hyperparameters we can get high result 93%, it means the dataset is simple enough"
      ]
    },
    {
      "cell_type": "markdown",
      "id": "0414fa13",
      "metadata": {
        "id": "0414fa13",
        "papermill": {
          "duration": 0.035007,
          "end_time": "2022-02-06T16:59:12.816382",
          "exception": false,
          "start_time": "2022-02-06T16:59:12.781375",
          "status": "completed"
        },
        "tags": []
      },
      "source": [
        "#### Explainability with Shap\n",
        "\n",
        "> First, let's install and import SHAP for model interpretability"
      ]
    },
    {
      "cell_type": "code",
      "execution_count": 72,
      "id": "20c0495d",
      "metadata": {
        "execution": {
          "iopub.execute_input": "2022-02-06T16:59:12.894540Z",
          "iopub.status.busy": "2022-02-06T16:59:12.893338Z",
          "iopub.status.idle": "2022-02-06T16:59:14.726852Z",
          "shell.execute_reply": "2022-02-06T16:59:14.726229Z",
          "shell.execute_reply.started": "2022-02-06T16:46:08.18055Z"
        },
        "id": "20c0495d",
        "papermill": {
          "duration": 1.875053,
          "end_time": "2022-02-06T16:59:14.727046",
          "exception": false,
          "start_time": "2022-02-06T16:59:12.851993",
          "status": "completed"
        },
        "tags": []
      },
      "outputs": [],
      "source": [
        "# Install SHAP if not already installed\n",
        "# !pip install shap\n",
        "\n",
        "# Import SHAP\n",
        "import shap"
      ]
    },
    {
      "cell_type": "code",
      "execution_count": 73,
      "id": "f23f729b",
      "metadata": {
        "execution": {
          "iopub.execute_input": "2022-02-06T16:59:14.802249Z",
          "iopub.status.busy": "2022-02-06T16:59:14.801520Z",
          "iopub.status.idle": "2022-02-06T16:59:16.207121Z",
          "shell.execute_reply": "2022-02-06T16:59:16.206467Z",
          "shell.execute_reply.started": "2022-02-06T16:46:10.724885Z"
        },
        "id": "f23f729b",
        "papermill": {
          "duration": 1.445402,
          "end_time": "2022-02-06T16:59:16.207283",
          "exception": false,
          "start_time": "2022-02-06T16:59:14.761881",
          "status": "completed"
        },
        "tags": []
      },
      "outputs": [],
      "source": [
        "explainer = shap.TreeExplainer(model)\n",
        "shap_values = explainer.shap_values(X_test)\n",
        "base_value = explainer.expected_value"
      ]
    },
    {
      "cell_type": "code",
      "execution_count": 74,
      "id": "b388d6c9",
      "metadata": {
        "colab": {
          "base_uri": "https://localhost:8080/",
          "height": 957
        },
        "execution": {
          "iopub.execute_input": "2022-02-06T16:59:16.287449Z",
          "iopub.status.busy": "2022-02-06T16:59:16.284134Z",
          "iopub.status.idle": "2022-02-06T16:59:16.630156Z",
          "shell.execute_reply": "2022-02-06T16:59:16.629464Z",
          "shell.execute_reply.started": "2022-02-06T16:46:12.119117Z"
        },
        "id": "b388d6c9",
        "outputId": "4622a817-5548-49c4-84ab-bdb4346bb54b",
        "papermill": {
          "duration": 0.386737,
          "end_time": "2022-02-06T16:59:16.630331",
          "exception": false,
          "start_time": "2022-02-06T16:59:16.243594",
          "status": "completed"
        },
        "tags": []
      },
      "outputs": [
        {
          "data": {
            "image/png": "[encoded data removed]",
            "text/plain": [
              "<Figure size 800x950 with 1 Axes>"
            ]
          },
          "metadata": {},
          "output_type": "display_data"
        }
      ],
      "source": [
        "shap.summary_plot(shap_values, X_test, feature_names=X_test.columns, plot_type=\"bar\")"
      ]
    },
    {
      "cell_type": "code",
      "execution_count": 75,
      "id": "9021aaaa",
      "metadata": {
        "colab": {
          "base_uri": "https://localhost:8080/",
          "height": 542
        },
        "execution": {
          "iopub.execute_input": "2022-02-06T16:59:16.713155Z",
          "iopub.status.busy": "2022-02-06T16:59:16.712387Z",
          "iopub.status.idle": "2022-02-06T16:59:16.988969Z",
          "shell.execute_reply": "2022-02-06T16:59:16.989469Z",
          "shell.execute_reply.started": "2022-02-06T16:46:12.469741Z"
        },
        "id": "9021aaaa",
        "outputId": "51fda572-30c1-4d25-c74c-87a05420fa48",
        "papermill": {
          "duration": 0.321338,
          "end_time": "2022-02-06T16:59:16.989656",
          "exception": false,
          "start_time": "2022-02-06T16:59:16.668318",
          "status": "completed"
        },
        "tags": []
      },
      "outputs": [
        {
          "data": {
            "image/png": "[encoded data removed]",
            "text/plain": [
              "<Figure size 1000x600 with 1 Axes>"
            ]
          },
          "metadata": {},
          "output_type": "display_data"
        }
      ],
      "source": [
        "plt.figure(figsize=(10, 6))\n",
        "\n",
        "x = 'Inflight entertainment'\n",
        "y = target\n",
        "\n",
        "sns.countplot(x=x, hue=y, data=DF)\n",
        "plt.show()"
      ]
    },
    {
      "cell_type": "markdown",
      "id": "b2d0907f",
      "metadata": {
        "id": "b2d0907f",
        "papermill": {
          "duration": 0.036833,
          "end_time": "2022-02-06T16:59:17.064068",
          "exception": false,
          "start_time": "2022-02-06T16:59:17.027235",
          "status": "completed"
        },
        "tags": []
      },
      "source": [
        "> For \"Inflight entertainment\", passengers with Inflight entertainment score 4 and 5 are mostly satisfied."
      ]
    },
    {
      "cell_type": "code",
      "execution_count": 76,
      "id": "0af1d785",
      "metadata": {
        "colab": {
          "base_uri": "https://localhost:8080/",
          "height": 542
        },
        "execution": {
          "iopub.execute_input": "2022-02-06T16:59:17.147648Z",
          "iopub.status.busy": "2022-02-06T16:59:17.143850Z",
          "iopub.status.idle": "2022-02-06T16:59:17.423396Z",
          "shell.execute_reply": "2022-02-06T16:59:17.422717Z",
          "shell.execute_reply.started": "2022-02-06T16:46:14.175096Z"
        },
        "id": "0af1d785",
        "outputId": "6a44cfe9-b705-4c9b-a9d9-ed3e3a8f4389",
        "papermill": {
          "duration": 0.321132,
          "end_time": "2022-02-06T16:59:17.423567",
          "exception": false,
          "start_time": "2022-02-06T16:59:17.102435",
          "status": "completed"
        },
        "tags": []
      },
      "outputs": [
        {
          "data": {
            "image/png": "[encoded data removed]",
            "text/plain": [
              "<Figure size 1000x600 with 1 Axes>"
            ]
          },
          "metadata": {},
          "output_type": "display_data"
        }
      ],
      "source": [
        "plt.figure(figsize=(10, 6))\n",
        "\n",
        "x = 'Seat comfort'\n",
        "y = target\n",
        "\n",
        "sns.countplot(x=x, hue=y, data=DF)\n",
        "plt.show()"
      ]
    },
    {
      "cell_type": "markdown",
      "id": "zdJ6joPPeI9l",
      "metadata": {
        "id": "zdJ6joPPeI9l"
      },
      "source": [
        "For seat comfort scores of 4 and 5, the majority of customers are satisfied.\n",
        "This indicates that \"Seat comfort\" is a significant factor influencing customer satisfaction, with higher comfort ratings strongly correlated with higher satisfaction."
      ]
    },
    {
      "cell_type": "code",
      "execution_count": 77,
      "id": "d3f30c38",
      "metadata": {
        "colab": {
          "base_uri": "https://localhost:8080/",
          "height": 465
        },
        "execution": {
          "iopub.execute_input": "2022-02-06T16:59:17.510654Z",
          "iopub.status.busy": "2022-02-06T16:59:17.509924Z",
          "iopub.status.idle": "2022-02-06T16:59:17.728564Z",
          "shell.execute_reply": "2022-02-06T16:59:17.727954Z",
          "shell.execute_reply.started": "2022-02-06T16:46:14.623707Z"
        },
        "id": "d3f30c38",
        "outputId": "252f6985-bd7a-481b-dd9a-43307df70fc3",
        "papermill": {
          "duration": 0.266162,
          "end_time": "2022-02-06T16:59:17.728743",
          "exception": false,
          "start_time": "2022-02-06T16:59:17.462581",
          "status": "completed"
        },
        "tags": []
      },
      "outputs": [
        {
          "data": {
            "image/png": "[encoded data removed]",
            "text/plain": [
              "<Figure size 800x500 with 1 Axes>"
            ]
          },
          "metadata": {},
          "output_type": "display_data"
        }
      ],
      "source": [
        "plt.figure(figsize=(8, 5))\n",
        "\n",
        "x = 'Type of Travel'\n",
        "y = target\n",
        "\n",
        "sns.countplot(x=x, hue=y, data=DF)\n",
        "plt.show()"
      ]
    },
    {
      "cell_type": "markdown",
      "id": "Xkes9sp4e50g",
      "metadata": {
        "id": "Xkes9sp4e50g"
      },
      "source": [
        "Customers traveling for business are significantly more likely to be satisfied compared to those traveling for personal reasons. This suggests that the factors associated with business travel in this dataset contribute more to customer satisfaction."
      ]
    },
    {
      "cell_type": "code",
      "execution_count": 78,
      "id": "ff226cbc",
      "metadata": {
        "colab": {
          "base_uri": "https://localhost:8080/",
          "height": 311
        },
        "execution": {
          "iopub.execute_input": "2022-02-06T16:59:17.816426Z",
          "iopub.status.busy": "2022-02-06T16:59:17.815746Z",
          "iopub.status.idle": "2022-02-06T16:59:18.037241Z",
          "shell.execute_reply": "2022-02-06T16:59:18.036496Z",
          "shell.execute_reply.started": "2022-02-06T16:46:15.327433Z"
        },
        "id": "ff226cbc",
        "outputId": "26a81e8a-7287-44c9-f439-244fdf010765",
        "papermill": {
          "duration": 0.268269,
          "end_time": "2022-02-06T16:59:18.037412",
          "exception": false,
          "start_time": "2022-02-06T16:59:17.769143",
          "status": "completed"
        },
        "tags": []
      },
      "outputs": [
        {
          "data": {
            "image/png": "[encoded data removed]",
            "text/plain": [
              "<Figure size 600x300 with 1 Axes>"
            ]
          },
          "metadata": {},
          "output_type": "display_data"
        }
      ],
      "source": [
        "plt.figure(figsize=(6, 3))\n",
        "\n",
        "x = 'Gender'\n",
        "y = target\n",
        "\n",
        "sns.countplot(x=x, hue=y, data=DF)\n",
        "plt.show()"
      ]
    },
    {
      "cell_type": "markdown",
      "id": "bc87d1bb",
      "metadata": {
        "id": "bc87d1bb",
        "papermill": {
          "duration": 0.041811,
          "end_time": "2022-02-06T16:59:18.120295",
          "exception": false,
          "start_time": "2022-02-06T16:59:18.078484",
          "status": "completed"
        },
        "tags": []
      },
      "source": [
        "Compared to men, female passengers have higher satisfaction"
      ]
    },
    {
      "cell_type": "markdown",
      "id": "667a3a03",
      "metadata": {
        "id": "667a3a03"
      },
      "source": [
        "**Conclusion:**\n",
        "\n",
        "This project successfully built a CatBoost model to predict airline customer satisfaction with high accuracy (93.3%). The analysis revealed key drivers of satisfaction, particularly \"Inflight entertainment\", \"Seat comfort\", and \"Type of Travel\", providing valuable insights for improving customer experience."
      ]
    }
  ],
  "metadata": {
    "colab": {
      "provenance": []
    },
    "kernelspec": {
      "display_name": "Python 3",
      "language": "python",
      "name": "python3"
    },
    "language_info": {
      "codemirror_mode": {
        "name": "ipython",
        "version": 3
      },
      "file_extension": ".py",
      "mimetype": "text/x-python",
      "name": "python",
      "nbconvert_exporter": "python",
      "pygments_lexer": "ipython3",
      "version": "3.13.3"
    },
    "papermill": {
      "default_parameters": {},
      "duration": 27.910532,
      "end_time": "2022-02-06T16:59:19.359199",
      "environment_variables": {},
      "exception": null,
      "input_path": "__notebook__.ipynb",
      "output_path": "__notebook__.ipynb",
      "parameters": {},
      "start_time": "2022-02-06T16:58:51.448667",
      "version": "2.3.3"
    },
    "widgets": {
      "application/vnd.jupyter.widget-state+json": {
        "00526761426441249d0a5d0738e5aac6": {
          "model_module": "catboost-widget",
          "model_module_version": "^1.0.0",
          "model_name": "CatboostWidgetModel",
          "state": {
            "_dom_classes": [],
            "_model_module": "catboost-widget",
            "_model_module_version": "^1.0.0",
            "_model_name": "CatboostWidgetModel",
            "_view_count": null,
            "_view_module": "catboost-widget",
            "_view_module_version": "^1.0.0",
            "_view_name": "CatboostWidgetView",
            "data": {
              "catboost_info": {
                "content": {
                  "data": {
                    "iterations": [
                      {
                        "iteration": 0,
                        "learn": [
                          0.8458600259,
                          0.5904515307
                        ],
                        "passed_time": 0.3312719689,
                        "remaining_time": 16.23232648,
                        "test": [
                          0.8406616541,
                          0.5916942477
                        ]
                      },
                      {
                        "iteration": 1,
                        "learn": [
                          0.8463111673,
                          0.5188541983
                        ],
                        "passed_time": 0.6164018717,
                        "remaining_time": 14.79364492,
                        "test": [
                          0.8412030075,
                          0.5209420666
                        ]
                      },
                      {
                        "iteration": 2,
                        "learn": [
                          0.846235977,
                          0.4733187963
                        ],
                        "passed_time": 0.8930849543,
                        "remaining_time": 13.99166428,
                        "test": [
                          0.8412631579,
                          0.4759782703
                        ]
                      },
                      {
                        "iteration": 3,
                        "learn": [
                          0.846882613,
                          0.4451151367
                        ],
                        "passed_time": 1.124765287,
                        "remaining_time": 12.9348008,
                        "test": [
                          0.842406015,
                          0.448295566
                        ]
                      },
                      {
                        "iteration": 4,
                        "learn": [
                          0.846566814,
                          0.4239927799
                        ],
                        "passed_time": 1.339182652,
                        "remaining_time": 12.05264387,
                        "test": [
                          0.8418045113,
                          0.4276773536
                        ]
                      },
                      {
                        "iteration": 5,
                        "learn": [
                          0.8653042197,
                          0.3807799394
                        ],
                        "passed_time": 1.515714158,
                        "remaining_time": 11.11523716,
                        "test": [
                          0.8612932331,
                          0.3835497816
                        ]
                      },
                      {
                        "iteration": 6,
                        "learn": [
                          0.8715450089,
                          0.351883647
                        ],
                        "passed_time": 1.686581477,
                        "remaining_time": 10.36042907,
                        "test": [
                          0.8682105263,
                          0.3545536602
                        ]
                      },
                      {
                        "iteration": 7,
                        "learn": [
                          0.8749285693,
                          0.3217131938
                        ],
                        "passed_time": 1.865457864,
                        "remaining_time": 9.793653788,
                        "test": [
                          0.8726616541,
                          0.3240317623
                        ]
                      },
                      {
                        "iteration": 8,
                        "learn": [
                          0.8794249451,
                          0.3000851118
                        ],
                        "passed_time": 2.161397979,
                        "remaining_time": 9.846368573,
                        "test": [
                          0.8767518797,
                          0.3020698494
                        ]
                      },
                      {
                        "iteration": 9,
                        "learn": [
                          0.8892447893,
                          0.2862734762
                        ],
                        "passed_time": 2.39873575,
                        "remaining_time": 9.594942999,
                        "test": [
                          0.8873984962,
                          0.2881210442
                        ]
                      },
                      {
                        "iteration": 10,
                        "learn": [
                          0.8932298716,
                          0.2708475258
                        ],
                        "passed_time": 2.486803748,
                        "remaining_time": 8.816849653,
                        "test": [
                          0.8920902256,
                          0.2717013221
                        ]
                      },
                      {
                        "iteration": 11,
                        "learn": [
                          0.8969893831,
                          0.2620944538
                        ],
                        "passed_time": 2.600815151,
                        "remaining_time": 8.235914646,
                        "test": [
                          0.8975037594,
                          0.2628717816
                        ]
                      },
                      {
                        "iteration": 12,
                        "learn": [
                          0.8997864597,
                          0.2544841393
                        ],
                        "passed_time": 2.76992031,
                        "remaining_time": 7.883619343,
                        "test": [
                          0.9023157895,
                          0.2539940128
                        ]
                      },
                      {
                        "iteration": 13,
                        "learn": [
                          0.9015910253,
                          0.2456318978
                        ],
                        "passed_time": 3.089309469,
                        "remaining_time": 7.943938634,
                        "test": [
                          0.9024360902,
                          0.2452875521
                        ]
                      },
                      {
                        "iteration": 14,
                        "learn": [
                          0.9010346176,
                          0.2423196147
                        ],
                        "passed_time": 3.511814278,
                        "remaining_time": 8.194233314,
                        "test": [
                          0.9018947368,
                          0.2418523823
                        ]
                      },
                      {
                        "iteration": 15,
                        "learn": [
                          0.9035760474,
                          0.2380100202
                        ],
                        "passed_time": 3.756907441,
                        "remaining_time": 7.983428311,
                        "test": [
                          0.9046616541,
                          0.2375019394
                        ]
                      },
                      {
                        "iteration": 16,
                        "learn": [
                          0.9061325153,
                          0.2333370504
                        ],
                        "passed_time": 4.000972339,
                        "remaining_time": 7.766593363,
                        "test": [
                          0.9082706767,
                          0.2327105257
                        ]
                      },
                      {
                        "iteration": 17,
                        "learn": [
                          0.9071851785,
                          0.2289464994
                        ],
                        "passed_time": 4.214553134,
                        "remaining_time": 7.492538905,
                        "test": [
                          0.9094736842,
                          0.2283181458
                        ]
                      },
                      {
                        "iteration": 18,
                        "learn": [
                          0.9082679178,
                          0.2240071267
                        ],
                        "passed_time": 4.39355506,
                        "remaining_time": 7.16843194,
                        "test": [
                          0.9104360902,
                          0.2231795486
                        ]
                      },
                      {
                        "iteration": 19,
                        "learn": [
                          0.9093205811,
                          0.2219458786
                        ],
                        "passed_time": 4.66312568,
                        "remaining_time": 6.99468852,
                        "test": [
                          0.9097744361,
                          0.2210194786
                        ]
                      },
                      {
                        "iteration": 20,
                        "learn": [
                          0.9108243857,
                          0.2144234726
                        ],
                        "passed_time": 4.905324268,
                        "remaining_time": 6.774019228,
                        "test": [
                          0.912481203,
                          0.2135228088
                        ]
                      },
                      {
                        "iteration": 21,
                        "learn": [
                          0.9114710217,
                          0.2117125923
                        ],
                        "passed_time": 5.121869609,
                        "remaining_time": 6.518743138,
                        "test": [
                          0.9143458647,
                          0.2109027932
                        ]
                      },
                      {
                        "iteration": 22,
                        "learn": [
                          0.9126590273,
                          0.2093435973
                        ],
                        "passed_time": 5.376672799,
                        "remaining_time": 6.311746329,
                        "test": [
                          0.9150676692,
                          0.2087153185
                        ]
                      },
                      {
                        "iteration": 23,
                        "learn": [
                          0.9132605492,
                          0.2064176261
                        ],
                        "passed_time": 5.663478422,
                        "remaining_time": 6.135434957,
                        "test": [
                          0.9163909774,
                          0.2060055693
                        ]
                      },
                      {
                        "iteration": 24,
                        "learn": [
                          0.9138319949,
                          0.2036789639
                        ],
                        "passed_time": 6.087257727,
                        "remaining_time": 6.087257727,
                        "test": [
                          0.9162706767,
                          0.2033472438
                        ]
                      },
                      {
                        "iteration": 25,
                        "learn": [
                          0.9144485548,
                          0.2017870957
                        ],
                        "passed_time": 6.480534968,
                        "remaining_time": 5.982032278,
                        "test": [
                          0.9168120301,
                          0.2014290286
                        ]
                      },
                      {
                        "iteration": 26,
                        "learn": [
                          0.9151703811,
                          0.1996350107
                        ],
                        "passed_time": 7.064141838,
                        "remaining_time": 6.017602306,
                        "test": [
                          0.9180150376,
                          0.1993700259
                        ]
                      },
                      {
                        "iteration": 27,
                        "learn": [
                          0.915471142,
                          0.1980560673
                        ],
                        "passed_time": 7.68115103,
                        "remaining_time": 6.035190095,
                        "test": [
                          0.9184360902,
                          0.1977860696
                        ]
                      },
                      {
                        "iteration": 28,
                        "learn": [
                          0.9168997564,
                          0.1955814597
                        ],
                        "passed_time": 8.06591636,
                        "remaining_time": 5.840835985,
                        "test": [
                          0.9187969925,
                          0.1953551458
                        ]
                      },
                      {
                        "iteration": 29,
                        "learn": [
                          0.9179524196,
                          0.1937984252
                        ],
                        "passed_time": 8.40317276,
                        "remaining_time": 5.602115173,
                        "test": [
                          0.9201804511,
                          0.1935924439
                        ]
                      },
                      {
                        "iteration": 30,
                        "learn": [
                          0.9188847785,
                          0.192076059
                        ],
                        "passed_time": 8.642936966,
                        "remaining_time": 5.297283947,
                        "test": [
                          0.9207218045,
                          0.1921313901
                        ]
                      },
                      {
                        "iteration": 31,
                        "learn": [
                          0.9196517188,
                          0.1902658762
                        ],
                        "passed_time": 8.991567951,
                        "remaining_time": 5.057756972,
                        "test": [
                          0.921443609,
                          0.1904957452
                        ]
                      },
                      {
                        "iteration": 32,
                        "learn": [
                          0.9210502572,
                          0.1886777787
                        ],
                        "passed_time": 9.245206044,
                        "remaining_time": 4.762681901,
                        "test": [
                          0.9222857143,
                          0.1887829367
                        ]
                      },
                      {
                        "iteration": 33,
                        "learn": [
                          0.9214713224,
                          0.1864703518
                        ],
                        "passed_time": 9.548998851,
                        "remaining_time": 4.493646518,
                        "test": [
                          0.9224661654,
                          0.1864176948
                        ]
                      },
                      {
                        "iteration": 34,
                        "learn": [
                          0.9218923877,
                          0.1857228634
                        ],
                        "passed_time": 9.803265766,
                        "remaining_time": 4.201399614,
                        "test": [
                          0.9233684211,
                          0.1858198419
                        ]
                      },
                      {
                        "iteration": 35,
                        "learn": [
                          0.9222382628,
                          0.1841065367
                        ],
                        "passed_time": 10.05369756,
                        "remaining_time": 3.909771275,
                        "test": [
                          0.9235488722,
                          0.1842368796
                        ]
                      },
                      {
                        "iteration": 36,
                        "learn": [
                          0.9231706217,
                          0.1824729643
                        ],
                        "passed_time": 10.29636071,
                        "remaining_time": 3.61764025,
                        "test": [
                          0.9237293233,
                          0.182661802
                        ]
                      },
                      {
                        "iteration": 37,
                        "learn": [
                          0.9237119913,
                          0.1811013461
                        ],
                        "passed_time": 10.53120253,
                        "remaining_time": 3.325642906,
                        "test": [
                          0.9242706767,
                          0.1813439946
                        ]
                      },
                      {
                        "iteration": 38,
                        "learn": [
                          0.9245541219,
                          0.1797303382
                        ],
                        "passed_time": 10.89681148,
                        "remaining_time": 3.073459649,
                        "test": [
                          0.9250526316,
                          0.1800600369
                        ]
                      },
                      {
                        "iteration": 39,
                        "learn": [
                          0.9247646546,
                          0.1788773448
                        ],
                        "passed_time": 11.11197201,
                        "remaining_time": 2.777993002,
                        "test": [
                          0.9246917293,
                          0.179365742
                        ]
                      },
                      {
                        "iteration": 40,
                        "learn": [
                          0.9257872417,
                          0.1773024741
                        ],
                        "passed_time": 11.36314973,
                        "remaining_time": 2.494349942,
                        "test": [
                          0.9251729323,
                          0.1778398026
                        ]
                      },
                      {
                        "iteration": 41,
                        "learn": [
                          0.9259225841,
                          0.1759331153
                        ],
                        "passed_time": 11.54847773,
                        "remaining_time": 2.199710044,
                        "test": [
                          0.926556391,
                          0.1764986657
                        ]
                      },
                      {
                        "iteration": 42,
                        "learn": [
                          0.9268248669,
                          0.1751641745
                        ],
                        "passed_time": 11.78731508,
                        "remaining_time": 1.918865246,
                        "test": [
                          0.9277593985,
                          0.1757749368
                        ]
                      },
                      {
                        "iteration": 43,
                        "learn": [
                          0.9273963127,
                          0.1738129935
                        ],
                        "passed_time": 12.04118707,
                        "remaining_time": 1.641980055,
                        "test": [
                          0.9282406015,
                          0.1743947155
                        ]
                      },
                      {
                        "iteration": 44,
                        "learn": [
                          0.9282534813,
                          0.1722990388
                        ],
                        "passed_time": 12.22925396,
                        "remaining_time": 1.358805995,
                        "test": [
                          0.9290225564,
                          0.1728270723
                        ]
                      },
                      {
                        "iteration": 45,
                        "learn": [
                          0.9286895846,
                          0.1711934498
                        ],
                        "passed_time": 12.44748069,
                        "remaining_time": 1.082389625,
                        "test": [
                          0.9284210526,
                          0.1718734081
                        ]
                      },
                      {
                        "iteration": 46,
                        "learn": [
                          0.9298174381,
                          0.168781701
                        ],
                        "passed_time": 12.72202347,
                        "remaining_time": 0.8120440515,
                        "test": [
                          0.9292030075,
                          0.1692540617
                        ]
                      },
                      {
                        "iteration": 47,
                        "learn": [
                          0.9307798731,
                          0.1660546658
                        ],
                        "passed_time": 12.99949482,
                        "remaining_time": 0.5416456175,
                        "test": [
                          0.9304661654,
                          0.16632465
                        ]
                      },
                      {
                        "iteration": 48,
                        "learn": [
                          0.9324190201,
                          0.1634814192
                        ],
                        "passed_time": 13.24044984,
                        "remaining_time": 0.270213262,
                        "test": [
                          0.9314887218,
                          0.1638395477
                        ]
                      },
                      {
                        "iteration": 49,
                        "learn": [
                          0.9331558844,
                          0.161260465
                        ],
                        "passed_time": 13.50037278,
                        "remaining_time": 0,
                        "test": [
                          0.9326917293,
                          0.1616160852
                        ]
                      }
                    ],
                    "meta": {
                      "iteration_count": 50,
                      "launch_mode": "Train",
                      "learn_metrics": [
                        {
                          "best_value": "Max",
                          "name": "Accuracy"
                        },
                        {
                          "best_value": "Min",
                          "name": "Logloss"
                        }
                      ],
                      "learn_sets": [
                        "learn"
                      ],
                      "name": "experiment",
                      "parameters": "",
                      "test_metrics": [
                        {
                          "best_value": "Max",
                          "name": "Accuracy"
                        },
                        {
                          "best_value": "Min",
                          "name": "Logloss"
                        }
                      ],
                      "test_sets": [
                        "test"
                      ]
                    }
                  },
                  "passed_iterations": 49,
                  "total_iterations": 50
                },
                "name": "catboost_info",
                "path": "catboost_info"
              }
            },
            "layout": "IPY_MODEL_c3a519d95cd146618dbed68e1d4629dd"
          }
        }
      }
    }
  },
  "nbformat": 4,
  "nbformat_minor": 5
}
